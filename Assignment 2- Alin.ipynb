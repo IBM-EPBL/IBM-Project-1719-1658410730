{
  "nbformat": 4,
  "nbformat_minor": 0,
  "metadata": {
    "colab": {
      "provenance": [],
      "collapsed_sections": []
    },
    "kernelspec": {
      "name": "python3",
      "display_name": "Python 3"
    },
    "language_info": {
      "name": "python"
    }
  },
  "cells": [
    {
      "cell_type": "markdown",
      "source": [
        "# Assignment 2 Solution"
      ],
      "metadata": {
        "id": "qZnWR9KSJxLP"
      }
    },
    {
      "cell_type": "markdown",
      "source": [
        "Import necessary libraries \n"
      ],
      "metadata": {
        "id": "UeJIs1FNKen-"
      }
    },
    {
      "cell_type": "code",
      "execution_count": null,
      "metadata": {
        "id": "4ROXCf6cJrfy"
      },
      "outputs": [],
      "source": []
    },
    {
      "cell_type": "markdown",
      "source": [
        "Load the dataset "
      ],
      "metadata": {
        "id": "ZCjH5gq-KxY6"
      }
    },
    {
      "cell_type": "code",
      "source": [],
      "metadata": {
        "id": "_Xt7MorAKwpc"
      },
      "execution_count": null,
      "outputs": []
    },
    {
      "cell_type": "markdown",
      "source": [
        "# Visualizations"
      ],
      "metadata": {
        "id": "QxC5Rd4ELt-B"
      }
    },
    {
      "cell_type": "markdown",
      "source": [
        "Uni-Variate Analysis"
      ],
      "metadata": {
        "id": "UypRZjULLx4O"
      }
    },
    {
      "cell_type": "code",
      "source": [],
      "metadata": {
        "id": "JmeZE5_IL6BE"
      },
      "execution_count": null,
      "outputs": []
    },
    {
      "cell_type": "markdown",
      "source": [
        "Bi-Variate Analysis"
      ],
      "metadata": {
        "id": "mxgYvkBOMT49"
      }
    },
    {
      "cell_type": "code",
      "source": [],
      "metadata": {
        "id": "00RRV5IbMWwf"
      },
      "execution_count": null,
      "outputs": []
    },
    {
      "cell_type": "markdown",
      "source": [
        "Multi-Variate Analysis"
      ],
      "metadata": {
        "id": "r9OYbJhCNJ-1"
      }
    },
    {
      "cell_type": "code",
      "source": [],
      "metadata": {
        "id": "dSmhp2gQNMgz"
      },
      "execution_count": null,
      "outputs": []
    },
    {
      "cell_type": "markdown",
      "source": [
        "# Descriptive Statistics"
      ],
      "metadata": {
        "id": "ykF4-lVnNUtN"
      }
    },
    {
      "cell_type": "code",
      "source": [],
      "metadata": {
        "id": "NIhD-YZ7NYMy"
      },
      "execution_count": null,
      "outputs": []
    },
    {
      "cell_type": "code",
      "source": [],
      "metadata": {
        "id": "MOVlpBFFNft7"
      },
      "execution_count": null,
      "outputs": []
    },
    {
      "cell_type": "markdown",
      "source": [
        "\n",
        "# Handle missing values"
      ],
      "metadata": {
        "id": "U2MgJebyNmEw"
      }
    },
    {
      "cell_type": "code",
      "source": [],
      "metadata": {
        "id": "wTobOHapNph5"
      },
      "execution_count": null,
      "outputs": []
    },
    {
      "cell_type": "markdown",
      "source": [
        "# Handle Outliers"
      ],
      "metadata": {
        "id": "7KOOeuTFNvrH"
      }
    },
    {
      "cell_type": "code",
      "source": [],
      "metadata": {
        "id": "XziXCIKRNxXg"
      },
      "execution_count": null,
      "outputs": []
    },
    {
      "cell_type": "code",
      "source": [],
      "metadata": {
        "id": "8HNR3IZ9N27R"
      },
      "execution_count": null,
      "outputs": []
    },
    {
      "cell_type": "code",
      "source": [],
      "metadata": {
        "id": "Mtv74H4eN-D6"
      },
      "execution_count": null,
      "outputs": []
    },
    {
      "cell_type": "markdown",
      "source": [
        "\n",
        "# Categorical label encoding"
      ],
      "metadata": {
        "id": "Uq7XwlQUOF6o"
      }
    },
    {
      "cell_type": "code",
      "source": [],
      "metadata": {
        "id": "beQHFMMuOHZu"
      },
      "execution_count": null,
      "outputs": []
    },
    {
      "cell_type": "markdown",
      "source": [
        "# Split data into dependent and independent variables"
      ],
      "metadata": {
        "id": "5lmunMNeObpw"
      }
    },
    {
      "cell_type": "code",
      "source": [],
      "metadata": {
        "id": "qPBO3JfbOdK6"
      },
      "execution_count": null,
      "outputs": []
    },
    {
      "cell_type": "code",
      "source": [],
      "metadata": {
        "id": "sOlNxDO_On7f"
      },
      "execution_count": null,
      "outputs": []
    },
    {
      "cell_type": "markdown",
      "source": [
        "# Scale independent variables"
      ],
      "metadata": {
        "id": "L5C4azM4Oxmp"
      }
    },
    {
      "cell_type": "code",
      "source": [],
      "metadata": {
        "id": "Rev0Y08MOq9s"
      },
      "execution_count": null,
      "outputs": []
    },
    {
      "cell_type": "markdown",
      "source": [
        "# Split the data into train and test data"
      ],
      "metadata": {
        "id": "AKnbtnHZO5pt"
      }
    },
    {
      "cell_type": "code",
      "source": [],
      "metadata": {
        "id": "dfK9aKCBO27E"
      },
      "execution_count": null,
      "outputs": []
    }
  ]
}